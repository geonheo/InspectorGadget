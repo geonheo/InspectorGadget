{
 "cells": [
  {
   "cell_type": "markdown",
   "metadata": {},
   "source": [
    "# Pattern Augmentation - Policy"
   ]
  },
  {
   "cell_type": "code",
   "execution_count": 1,
   "metadata": {},
   "outputs": [],
   "source": [
    "import InspectorG.policy_aug as pa\n",
    "\n",
    "\"\"\"\n",
    "Builtin operations in InspectorG.policy_aug\n",
    "\"\"\"\n",
    "opers = [ \n",
    "        (pa.ShearX, -0.3, 0.3), \n",
    "        (pa.ShearY, -0.3, 0.3),\n",
    "        (pa.TranslateX, -0.45, 0.45),\n",
    "        (pa.TranslateY, -0.45, 0.45),\n",
    "        (pa.AutoContrast, 0, 1),\n",
    "        (pa.Rotate, -30, 30),\n",
    "        (pa.Invert, 0, 1),\n",
    "        (pa.Equalize, 0, 1),\n",
    "        (pa.Solarize, 0, 256),\n",
    "        (pa.Posterize, 4, 8),\n",
    "        (pa.Contrast, 0.1, 1.9),\n",
    "        (pa.Color, 0.1, 1.9),\n",
    "        (pa.Brightness, 0.1, 1.9),\n",
    "        (pa.Sharpness, 0.1, 1.9),\n",
    "        (pa.Cutout, 0, 0.2),\n",
    "        (pa.ResizeX, 0.8, 1.2),\n",
    "        (pa.ResizeY, 0.8, 1.2)\n",
    "    ]\n",
    "\n",
    "\"\"\"\n",
    "User-defined operation\n",
    "\"\"\"\n",
    "def RotateNew(img, v):  # [-30, 30]\n",
    "    return img.rotate(v)\n",
    "\n",
    "opers += (RotateNew, -20, 20)\n",
    "oper_idxs = [1, 3, 4, 13]\n",
    "\n",
    "\n",
    "DTYPE = 'KSDD'\n",
    "p_path = './InspectorG/PATTERN/'+ DTYPE\n",
    "aug_dir = p_path + '-policy-tmp/' # or p_path + '-policy/'\n",
    "img_typ = 'png'\n",
    "\n",
    "pa.PatternAugPolicy(DTYPE, opers, oper_idxs = oper_idxs, p_path = p_path, aug_dir = aug_dir, img_typ = img_typ)"
   ]
  },
  {
   "cell_type": "markdown",
   "metadata": {},
   "source": [
    "# Pattern Augmentation - GAN"
   ]
  },
  {
   "cell_type": "markdown",
   "metadata": {},
   "source": [
    "### gan_aug_trainer.py\n",
    "\n",
    "#### PARAMETER\n",
    "\n",
    "--n_epochs \t: Number of epochs (default : 200)\\\n",
    "--batch_size \t: Mini-batch size (default : 1)\\\n",
    "--vector_size\t: The size of input random noise vector (default : 100)\\\n",
    "--lr_G\t\t: Learning rate of Geneartor\t(default : 0.0001)\\\n",
    "--lr_D\t\t: Learning rate of Discriminator (default : 0.0001)\\\n",
    "--d_image\t: Dimension of input image (color : 3, grayscale : 1)\\\n",
    "--resize\t\t: If every input images have different sizes, image resize is required. The size of resize image (default : 100) * If the resize is changed, DISCRIMNATOR and GENERATOR are also changed.\\\n",
    "--path\t\t: Folder which has images\\\n",
    "--c_period\t: Checkpoint period. Every c_period epochs, backup is executed. (default : 100)\\ \n",
    "\n",
    "##### Ex)  python gan_aug_trainer.py --batch_size 5 --d_image 1 --path NEW_IG/SKT_half/Scratch/Scratch/ --resize 100 --n_epochs 2000 --c_period 100\n",
    "\n",
    "### gan_aug_generator.py\n",
    "\n",
    "#### PARAMETER\n",
    "\n",
    "--vector size\\\n",
    "--d_image\\\n",
    "--image_size \t: Image_size same as resize or original image size used at training GAN\\\n",
    "--save_path\t: Path that generated images are saved\\\n",
    "--save_folder_path\t: Path of save_folder (the folder of package)\\\n",
    "--model_path\t: Path of generator model (pkl file)\\\n",
    "--g_num\t\t: The number of generated images\\\n",
    "\n",
    "##### Ex) python gan_aug_generator.py --vector_size 100 --d_image 1 --save_path Generated_image/ --save_folder_path Save_folder/ --model_path Save_folder/G_Model_Save/Generator.pkl --g_num 10\n"
   ]
  },
  {
   "cell_type": "markdown",
   "metadata": {},
   "source": [
    "# Feature Generation"
   ]
  },
  {
   "cell_type": "code",
   "execution_count": 2,
   "metadata": {},
   "outputs": [],
   "source": [
    "from InspectorG.utils import SliceBbox, ImgViewer, SaveDict, LoadDict\n",
    "from InspectorG.feature_generation import FeatureGenerator, FeatureManager\n",
    "\n",
    "DTYPE = 'KSDD'\n",
    "\n",
    "IMGDICT = LoadDict('Experiment','imgdict')[DTYPE]\n",
    "DEVDICT = LoadDict('DEVELOPMENT')[DTYPE]"
   ]
  },
  {
   "cell_type": "code",
   "execution_count": 3,
   "metadata": {},
   "outputs": [
    {
     "data": {
      "text/plain": [
       "' \\nImage data path Dictionary\\n\\n{Product ID : (PATH, Label)}\\n'"
      ]
     },
     "execution_count": 3,
     "metadata": {},
     "output_type": "execute_result"
    }
   ],
   "source": [
    "\"\"\" \n",
    "Image data path Dictionary\n",
    "\n",
    "{Product ID : (PATH, Label)}\n",
    "\"\"\"\n",
    "#IMGDICT"
   ]
  },
  {
   "cell_type": "code",
   "execution_count": 4,
   "metadata": {
    "scrolled": true
   },
   "outputs": [
    {
     "data": {
      "text/plain": [
       "' \\nDevelopment set Dictionary\\n\\n{Product ID : Label}\\n'"
      ]
     },
     "execution_count": 4,
     "metadata": {},
     "output_type": "execute_result"
    }
   ],
   "source": [
    "\"\"\" \n",
    "Development set Dictionary\n",
    "\n",
    "{Product ID : Label}\n",
    "\"\"\"\n",
    "#DEVDICT"
   ]
  },
  {
   "cell_type": "code",
   "execution_count": 5,
   "metadata": {},
   "outputs": [
    {
     "name": "stderr",
     "output_type": "stream",
     "text": [
      "100%|██████████| 10/10 [00:00<00:00, 42495.48it/s]\n",
      "100%|██████████| 100/100 [00:00<00:00, 172676.16it/s]\n",
      "100%|██████████| 100/100 [00:00<00:00, 94958.21it/s]"
     ]
    },
    {
     "name": "stdout",
     "output_type": "stream",
     "text": [
      "Generate Features ...\n",
      "Generate Features ...\n",
      "Generate Features ...\n"
     ]
    },
    {
     "name": "stderr",
     "output_type": "stream",
     "text": [
      "\n"
     ]
    }
   ],
   "source": [
    "FeatureE_org = FeatureGenerator(imgdict = IMGDICT, task_name = DTYPE)\n",
    "FeatureE_GAN = FeatureGenerator(imgdict = IMGDICT, task_name = DTYPE, aug = 'GAN')\n",
    "FeatureE_policy = FeatureGenerator(imgdict = IMGDICT, task_name = DTYPE, aug = 'policy')\n",
    "\n",
    "FeatureE_org.GenFeature(save = True, print_log = False)\n",
    "FeatureE_GAN.GenFeature(save = True, print_log = False)\n",
    "FeatureE_policy.GenFeature(save = True, print_log = False)"
   ]
  },
  {
   "cell_type": "code",
   "execution_count": 6,
   "metadata": {
    "scrolled": true
   },
   "outputs": [],
   "source": [
    "\"\"\" \n",
    "Feature Dictionary\n",
    "\n",
    "{Product ID : {Pattern Name : (Confidence, Bounding Box)}}\n",
    "\"\"\"\n",
    "FeatureDict = FeatureE_org.LoadFeatureDict(wo_bbox = False) # wo_bbox -> without bonunding box "
   ]
  },
  {
   "cell_type": "code",
   "execution_count": 7,
   "metadata": {},
   "outputs": [
    {
     "name": "stdout",
     "output_type": "stream",
     "text": [
      "MODE : org\n",
      "\n",
      "== PATTENRNS ==\n",
      "ORG : 10, GAN : 0, Policy : 0\n",
      "\n",
      "Make Training Data ...\n",
      "Train : (78, 10), (78,), Test : (321, 10), (321,)\n"
     ]
    }
   ],
   "source": [
    "FeatureM = FeatureManager(task_name = DTYPE, f_org = FeatureE_org, f_gan = FeatureE_GAN, f_policy = FeatureE_policy)\n",
    "\n",
    "\"\"\"\n",
    "Choose one mode in (org, gan, policy, all)\n",
    "\n",
    "pat_num : Number of Patterns\n",
    "\"\"\"\n",
    "\n",
    "MODE = 'org'\n",
    "X_tr, Y_tr, X_te, Y_te = FeatureM.MakeMatrix(dev_dict = DEVDICT, mode = MODE, pat_num = 100)"
   ]
  },
  {
   "cell_type": "code",
   "execution_count": 8,
   "metadata": {},
   "outputs": [
    {
     "name": "stdout",
     "output_type": "stream",
     "text": [
      "MODE : gan\n",
      "\n",
      "== PATTENRNS ==\n",
      "ORG : 10, GAN : 100, Policy : 0\n",
      "\n",
      "Make Training Data ...\n",
      "Train : (78, 110), (78,), Test : (321, 110), (321,)\n"
     ]
    }
   ],
   "source": [
    "MODE = 'gan'\n",
    "X_tr, Y_tr, X_te, Y_te = FeatureM.MakeMatrix(dev_dict = DEVDICT, mode = MODE, pat_num = 100)"
   ]
  },
  {
   "cell_type": "code",
   "execution_count": 9,
   "metadata": {},
   "outputs": [
    {
     "name": "stdout",
     "output_type": "stream",
     "text": [
      "MODE : policy\n",
      "\n",
      "== PATTENRNS ==\n",
      "ORG : 10, GAN : 0, Policy : 100\n",
      "\n",
      "Make Training Data ...\n",
      "Train : (78, 110), (78,), Test : (321, 110), (321,)\n"
     ]
    }
   ],
   "source": [
    "MODE = 'policy'\n",
    "X_tr, Y_tr, X_te, Y_te = FeatureM.MakeMatrix(dev_dict = DEVDICT, mode = MODE, pat_num = 100)"
   ]
  },
  {
   "cell_type": "code",
   "execution_count": 10,
   "metadata": {},
   "outputs": [
    {
     "name": "stdout",
     "output_type": "stream",
     "text": [
      "MODE : all\n",
      "\n",
      "== PATTENRNS ==\n",
      "ORG : 10, GAN : 100, Policy : 100\n",
      "\n",
      "Make Training Data ...\n",
      "Train : (78, 210), (78,), Test : (321, 210), (321,)\n"
     ]
    }
   ],
   "source": [
    "MODE = 'all'\n",
    "X_tr, Y_tr, X_te, Y_te = FeatureM.MakeMatrix(dev_dict = DEVDICT, mode = MODE, pat_num = 100)"
   ]
  },
  {
   "cell_type": "code",
   "execution_count": 11,
   "metadata": {},
   "outputs": [
    {
     "name": "stdout",
     "output_type": "stream",
     "text": [
      "MODE : all\n",
      "\n",
      "== PATTENRNS ==\n",
      "ORG : 10, GAN : 100, Policy : 100\n",
      "\n",
      "Make Training Data ...\n",
      "Train : (78, 210), (78,), Test : (321, 210), (321,)\n"
     ]
    }
   ],
   "source": [
    "MODE = 'all'\n",
    "\"\"\"\n",
    "To use all patterns => pat_num = None\n",
    "\"\"\"\n",
    "X_tr, Y_tr, X_te, Y_te = FeatureM.MakeMatrix(dev_dict = DEVDICT, mode = MODE, pat_num = None)"
   ]
  },
  {
   "cell_type": "markdown",
   "metadata": {},
   "source": [
    "# Labeling"
   ]
  },
  {
   "cell_type": "code",
   "execution_count": 12,
   "metadata": {
    "scrolled": true
   },
   "outputs": [
    {
     "name": "stdout",
     "output_type": "stream",
     "text": [
      "Number of Defective Data : 10, K (Cross Validation) : 1\n"
     ]
    },
    {
     "name": "stderr",
     "output_type": "stream",
     "text": [
      "/home/geon/anaconda3/envs/snorkel/lib/python3.6/site-packages/sklearn/metrics/classification.py:1135: UndefinedMetricWarning: F-score is ill-defined and being set to 0.0 due to no predicted samples.\n",
      "  'precision', 'predicted', average, warn_for)\n"
     ]
    },
    {
     "name": "stdout",
     "output_type": "stream",
     "text": [
      "Searching - complete\n"
     ]
    }
   ],
   "source": [
    "from InspectorG import labeler\n",
    "\n",
    "def train_func(xtr, ytr):\n",
    "    defectnum = sum(ytr)\n",
    "    for i in range(1,10):\n",
    "        if defectnum/i < 10:\n",
    "            k = min(max(i-1, 1), 3)\n",
    "            break\n",
    "    return labeler.train_recursive_cv(xtr, ytr, k, 3, test_iter = 20)\n",
    "\n",
    "Model = train_func(X_tr, Y_tr)"
   ]
  },
  {
   "cell_type": "code",
   "execution_count": 13,
   "metadata": {},
   "outputs": [
    {
     "name": "stdout",
     "output_type": "stream",
     "text": [
      "\n",
      "Evaluate Model ...\n",
      "             precision    recall  f1-score   support\n",
      "\n",
      "         ok     0.9331    1.0000    0.9654       279\n",
      "  defective     1.0000    0.5238    0.6875        42\n",
      "\n",
      "avg / total     0.9419    0.9377    0.9290       321\n",
      "\n",
      "ACC : 0.9376947040498442\n",
      "ROC - AUC : 0.9358252261478068\n",
      "AVERAGE - PRECISION : 0.8575426662291069\n"
     ]
    }
   ],
   "source": [
    "import sklearn.metrics\n",
    "\n",
    "def print_result(true, pred, score):\n",
    "    cls_rpt = sklearn.metrics.classification_report(true, pred, target_names=['ok', 'defective'], digits=4)\n",
    "    print(cls_rpt)\n",
    "    rocauc = sklearn.metrics.roc_auc_score(true, score)\n",
    "    ap = sklearn.metrics.average_precision_score(true, score)\n",
    "    acc = sklearn.metrics.accuracy_score(true, pred)\n",
    "    print('ACC : %s\\nROC - AUC : %s\\nAVERAGE - PRECISION : %s' % (acc, rocauc, ap))\n",
    "    return rocauc, ap, cls_rpt\n",
    "\n",
    "def evaluate_model(model, xte, yte):\n",
    "    print('\\nEvaluate Model ...')\n",
    "    ypred, yscore = model.predict(xte), model.predict_proba(xte)[:, 1]\n",
    "    return print_result(yte, ypred, yscore)\n",
    "\n",
    "def model_labeling(model, xte):\n",
    "    return model.predict(xte), model.predict_proba(xte)[:, 1]\n",
    "\n",
    "_, _, cls_rpt = evaluate_model(Model, X_te, Y_te)\n",
    "Y_pred = model_labeling(Model, X_te)"
   ]
  }
 ],
 "metadata": {
  "kernelspec": {
   "display_name": "Python (snorkel)",
   "language": "python",
   "name": "snorkel"
  },
  "language_info": {
   "codemirror_mode": {
    "name": "ipython",
    "version": 3
   },
   "file_extension": ".py",
   "mimetype": "text/x-python",
   "name": "python",
   "nbconvert_exporter": "python",
   "pygments_lexer": "ipython3",
   "version": "3.6.9"
  }
 },
 "nbformat": 4,
 "nbformat_minor": 2
}
